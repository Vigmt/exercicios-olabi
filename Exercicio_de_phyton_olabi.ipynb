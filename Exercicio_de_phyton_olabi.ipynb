{
  "nbformat": 4,
  "nbformat_minor": 0,
  "metadata": {
    "colab": {
      "provenance": [],
      "include_colab_link": true
    },
    "kernelspec": {
      "name": "python3",
      "display_name": "Python 3"
    },
    "language_info": {
      "name": "python"
    }
  },
  "cells": [
    {
      "cell_type": "markdown",
      "metadata": {
        "id": "view-in-github",
        "colab_type": "text"
      },
      "source": [
        "<a href=\"https://colab.research.google.com/github/Vigmt/exercicios-olabi/blob/main/Exercicio_de_phyton_olabi.ipynb\" target=\"_parent\"><img src=\"https://colab.research.google.com/assets/colab-badge.svg\" alt=\"Open In Colab\"/></a>"
      ]
    },
    {
      "cell_type": "markdown",
      "source": [
        "#Modulo 1 - Coleta de dados"
      ],
      "metadata": {
        "id": "oPk9jQAxkx66"
      }
    },
    {
      "cell_type": "code",
      "source": [
        "#Criando modulo e inserindo informações\n",
        "import csv\n",
        "import pandas as pd\n",
        "with open('/content/coleta_dados.py', 'w') as f:\n",
        "    dados = {\n",
        "    'Nome': ['Ana', 'Carlos', 'Maria', 'João','Pedro','Mariana',\"Juliana\"],\n",
        "    'Gênero': ['Feminino', 'Masculino', 'Feminino', 'Masculino','Masculino','Feminino','Feminino'],\n",
        "    'Etnia': ['Branca', 'Pardo', 'Negra', 'Branca','Negro','Indigena','Branca'],\n",
        "    'Idade': [25, 30, 28, 35,20,44,37],\n",
        "    'Cidade': ['São Paulo', 'Rio de Janeiro', 'Belo Horizonte', 'Porto Alegre','Arraial do Cabo','Itabuna','Franca'],\n",
        "    'Estado': ['SP', 'RJ', 'MG', 'RS','RJ','BA,','SP'],\n",
        "    'País': ['Brasil', 'Brasil', 'Brasil', 'Brasil','Brasil','Brasil','Brasil'],\n",
        "    'Estado civil': ['Solteiro', 'Casado', 'Solteiro', 'Casado','Solteiro','Casado','Solteiro'],\n",
        "    'Escolaridade': ['Ensino fundamental', 'Ensino médio', 'Ensino superior', 'Ensino fundamental','Ensino fundamental','Ensino fundamental','Ensino fundamental']\n",
        "}\n",
        "    f.write(str(dados))\n",
        "df = pd.DataFrame(dados)\n",
        "\n",
        "# Use a função open para abrir o arquivo em modo de leitura ('r')\n",
        "with open('/content/coleta_dados.py', 'r') as f:\n",
        "    # Leia o conteúdo do arquivo\n",
        "    file_contents = f.read()\n",
        "\n",
        "print(df)\n",
        "print(file_contents)\n",
        "\n"
      ],
      "metadata": {
        "id": "S7zR9dtn1p3P",
        "colab": {
          "base_uri": "https://localhost:8080/"
        },
        "outputId": "ec581e7d-0ce7-44d4-fb49-a1ad5e1254f9"
      },
      "execution_count": 10,
      "outputs": [
        {
          "output_type": "stream",
          "name": "stdout",
          "text": [
            "      Nome     Gênero     Etnia  Idade           Cidade Estado    País  \\\n",
            "0      Ana   Feminino    Branca     25        São Paulo     SP  Brasil   \n",
            "1   Carlos  Masculino     Pardo     30   Rio de Janeiro     RJ  Brasil   \n",
            "2    Maria   Feminino     Negra     28   Belo Horizonte     MG  Brasil   \n",
            "3     João  Masculino    Branca     35     Porto Alegre     RS  Brasil   \n",
            "4    Pedro  Masculino     Negro     20  Arraial do Cabo     RJ  Brasil   \n",
            "5  Mariana   Feminino  Indigena     44          Itabuna    BA,  Brasil   \n",
            "6  Juliana   Feminino    Branca     37           Franca     SP  Brasil   \n",
            "\n",
            "  Estado civil        Escolaridade  \n",
            "0     Solteiro  Ensino fundamental  \n",
            "1       Casado        Ensino médio  \n",
            "2     Solteiro     Ensino superior  \n",
            "3       Casado  Ensino fundamental  \n",
            "4     Solteiro  Ensino fundamental  \n",
            "5       Casado  Ensino fundamental  \n",
            "6     Solteiro  Ensino fundamental  \n",
            "{'Nome': ['Ana', 'Carlos', 'Maria', 'João', 'Pedro', 'Mariana', 'Juliana'], 'Gênero': ['Feminino', 'Masculino', 'Feminino', 'Masculino', 'Masculino', 'Feminino', 'Feminino'], 'Etnia': ['Branca', 'Pardo', 'Negra', 'Branca', 'Negro', 'Indigena', 'Branca'], 'Idade': [25, 30, 28, 35, 20, 44, 37], 'Cidade': ['São Paulo', 'Rio de Janeiro', 'Belo Horizonte', 'Porto Alegre', 'Arraial do Cabo', 'Itabuna', 'Franca'], 'Estado': ['SP', 'RJ', 'MG', 'RS', 'RJ', 'BA,', 'SP'], 'País': ['Brasil', 'Brasil', 'Brasil', 'Brasil', 'Brasil', 'Brasil', 'Brasil'], 'Estado civil': ['Solteiro', 'Casado', 'Solteiro', 'Casado', 'Solteiro', 'Casado', 'Solteiro'], 'Escolaridade': ['Ensino fundamental', 'Ensino médio', 'Ensino superior', 'Ensino fundamental', 'Ensino fundamental', 'Ensino fundamental', 'Ensino fundamental']}\n"
          ]
        }
      ]
    },
    {
      "cell_type": "markdown",
      "source": [
        "Módulo 2 - Processamento de Dados"
      ],
      "metadata": {
        "id": "ATU5yXjvSR4_"
      }
    },
    {
      "cell_type": "code",
      "source": [
        "# processamento_coleta de dados\n",
        "%%writefile processamento_dados.py\n",
        "import json\n",
        "import pandas as pd\n",
        "\n",
        "def calcular_porcentagem_genero(df, genero):\n",
        "    total = len(df)\n",
        "    total_genero = len(df[df['Gênero'] == genero])\n",
        "    return (total_genero / total) * 100 if total > 0 else 0\n",
        "\n",
        "def calcular_media_idade(df):\n",
        "    return df['Idade'].mean()\n",
        "\n",
        "def calcular_diversidade_racial(df):\n",
        "    return df['Etnia'].nunique()\n",
        "\n",
        "def categorizar_escolaridade(df):\n",
        "    return df['Escolaridade'].value_counts()\n",
        "\n",
        "def gerar_relatorio(df):\n",
        "    relatorio = {\n",
        "        'Porcentagem de Mulheres': calcular_porcentagem_genero(df, 'Feminino'),\n",
        "        'Média de Idade': calcular_media_idade(df),\n",
        "        'Diversidade Racial': calcular_diversidade_racial(df),\n",
        "        'Distribuição Escolaridade': categorizar_escolaridade(df).to_dict()\n",
        "    }\n",
        "    return relatorio\n",
        "\n",
        " #main.py\n",
        "\n",
        "\n",
        "\n"
      ],
      "metadata": {
        "colab": {
          "base_uri": "https://localhost:8080/"
        },
        "id": "V7eJGCGqayre",
        "outputId": "fe00b48e-4cc6-4cf8-e6cb-207a36a1dfe5"
      },
      "execution_count": 14,
      "outputs": [
        {
          "output_type": "stream",
          "name": "stdout",
          "text": [
            "Overwriting processamento_dados.py\n"
          ]
        }
      ]
    },
    {
      "cell_type": "code",
      "source": [
        "import json\n",
        "import pandas as pd\n",
        "\n",
        "\n",
        "with open('processamento_dados.json', 'r') as f:\n",
        "    dados = json.load(f)\n",
        "df = pd.DataFrame(dados)\n",
        "relatorio = gerar_relatorio(df)\n",
        "\n",
        "for chave, valor in relatorio.items():\n",
        "    print(f\"{chave}: {valor}\")"
      ],
      "metadata": {
        "colab": {
          "base_uri": "https://localhost:8080/",
          "height": 211
        },
        "id": "d9OB9j30VRor",
        "outputId": "482453b1-04d8-4d4a-b6d7-8d122039121a"
      },
      "execution_count": 17,
      "outputs": [
        {
          "output_type": "error",
          "ename": "FileNotFoundError",
          "evalue": "[Errno 2] No such file or directory: 'processamento_dados.json'",
          "traceback": [
            "\u001b[0;31m---------------------------------------------------------------------------\u001b[0m",
            "\u001b[0;31mFileNotFoundError\u001b[0m                         Traceback (most recent call last)",
            "\u001b[0;32m<ipython-input-17-029e00ec8f7a>\u001b[0m in \u001b[0;36m<cell line: 5>\u001b[0;34m()\u001b[0m\n\u001b[1;32m      3\u001b[0m \u001b[0;34m\u001b[0m\u001b[0m\n\u001b[1;32m      4\u001b[0m \u001b[0;34m\u001b[0m\u001b[0m\n\u001b[0;32m----> 5\u001b[0;31m \u001b[0;32mwith\u001b[0m \u001b[0mopen\u001b[0m\u001b[0;34m(\u001b[0m\u001b[0;34m'processamento_dados.json'\u001b[0m\u001b[0;34m,\u001b[0m \u001b[0;34m'r'\u001b[0m\u001b[0;34m)\u001b[0m \u001b[0;32mas\u001b[0m \u001b[0mf\u001b[0m\u001b[0;34m:\u001b[0m\u001b[0;34m\u001b[0m\u001b[0;34m\u001b[0m\u001b[0m\n\u001b[0m\u001b[1;32m      6\u001b[0m     \u001b[0mdados\u001b[0m \u001b[0;34m=\u001b[0m \u001b[0mjson\u001b[0m\u001b[0;34m.\u001b[0m\u001b[0mload\u001b[0m\u001b[0;34m(\u001b[0m\u001b[0mf\u001b[0m\u001b[0;34m)\u001b[0m\u001b[0;34m\u001b[0m\u001b[0;34m\u001b[0m\u001b[0m\n\u001b[1;32m      7\u001b[0m \u001b[0mdf\u001b[0m \u001b[0;34m=\u001b[0m \u001b[0mpd\u001b[0m\u001b[0;34m.\u001b[0m\u001b[0mDataFrame\u001b[0m\u001b[0;34m(\u001b[0m\u001b[0mdados\u001b[0m\u001b[0;34m)\u001b[0m\u001b[0;34m\u001b[0m\u001b[0;34m\u001b[0m\u001b[0m\n",
            "\u001b[0;31mFileNotFoundError\u001b[0m: [Errno 2] No such file or directory: 'processamento_dados.json'"
          ]
        }
      ]
    },
    {
      "cell_type": "code",
      "source": [
        "import json\n",
        "import pandas as pd\n",
        "\n",
        "# Define the missing function\n",
        "def gerar_relatorio(df):\n",
        "    # This is just a placeholder. You need to define the actual logic for this function.\n",
        "    relatorio = {\n",
        "        'example': 'This is an example'\n",
        "    }\n",
        "    return relatorio\n",
        "\n",
        "# Try to open the file. If it doesn't exist, create it.\n",
        "try:\n",
        "    with open('processamento_dados.json', 'r') as f:\n",
        "        dados = json.load(f)\n",
        "except FileNotFoundError:\n",
        "    # Handle the case where the file is not found\n",
        "    print(\"File not found. Creating an empty dictionary.\")\n",
        "    dados = {}  # Create an empty dictionary if the file doesn't exist\n",
        "\n",
        "df = pd.DataFrame(dados)\n",
        "relatorio = gerar_relatorio(df)\n",
        "\n",
        "for chave, valor in relatorio.items():\n",
        "    print(f\"{chave}: {valor}\")"
      ],
      "metadata": {
        "colab": {
          "base_uri": "https://localhost:8080/"
        },
        "id": "GfteVSqcWXBu",
        "outputId": "3c12b622-54bd-4dae-b673-7a3a110558b3"
      },
      "execution_count": 18,
      "outputs": [
        {
          "output_type": "stream",
          "name": "stdout",
          "text": [
            "File not found. Creating an empty dictionary.\n",
            "example: This is an example\n"
          ]
        }
      ]
    },
    {
      "cell_type": "code",
      "source": [
        "import processamento_dados\n",
        "import csv\n",
        "print(processamento_dados.Escolaridade)"
      ],
      "metadata": {
        "colab": {
          "base_uri": "https://localhost:8080/",
          "height": 176
        },
        "id": "i7f_dI_yTE8s",
        "outputId": "e8cbdd05-7c5a-4821-dba0-c8836fef437d"
      },
      "execution_count": 19,
      "outputs": [
        {
          "output_type": "error",
          "ename": "AttributeError",
          "evalue": "module 'processamento_dados' has no attribute 'Escolaridade'",
          "traceback": [
            "\u001b[0;31m---------------------------------------------------------------------------\u001b[0m",
            "\u001b[0;31mAttributeError\u001b[0m                            Traceback (most recent call last)",
            "\u001b[0;32m<ipython-input-19-ed7beb05c208>\u001b[0m in \u001b[0;36m<cell line: 3>\u001b[0;34m()\u001b[0m\n\u001b[1;32m      1\u001b[0m \u001b[0;32mimport\u001b[0m \u001b[0mprocessamento_dados\u001b[0m\u001b[0;34m\u001b[0m\u001b[0;34m\u001b[0m\u001b[0m\n\u001b[1;32m      2\u001b[0m \u001b[0;32mimport\u001b[0m \u001b[0mcsv\u001b[0m\u001b[0;34m\u001b[0m\u001b[0;34m\u001b[0m\u001b[0m\n\u001b[0;32m----> 3\u001b[0;31m \u001b[0mprint\u001b[0m\u001b[0;34m(\u001b[0m\u001b[0mprocessamento_dados\u001b[0m\u001b[0;34m.\u001b[0m\u001b[0mEscolaridade\u001b[0m\u001b[0;34m)\u001b[0m\u001b[0;34m\u001b[0m\u001b[0;34m\u001b[0m\u001b[0m\n\u001b[0m",
            "\u001b[0;31mAttributeError\u001b[0m: module 'processamento_dados' has no attribute 'Escolaridade'"
          ]
        }
      ]
    },
    {
      "cell_type": "code",
      "source": [],
      "metadata": {
        "id": "r6s8OqReavKE"
      },
      "execution_count": null,
      "outputs": []
    }
  ]
}