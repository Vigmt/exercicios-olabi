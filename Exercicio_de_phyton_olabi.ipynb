{
  "nbformat": 4,
  "nbformat_minor": 0,
  "metadata": {
    "colab": {
      "provenance": [],
      "authorship_tag": "ABX9TyP3YZL/fpXmympP+yGrPa3L",
      "include_colab_link": true
    },
    "kernelspec": {
      "name": "python3",
      "display_name": "Python 3"
    },
    "language_info": {
      "name": "python"
    }
  },
  "cells": [
    {
      "cell_type": "markdown",
      "metadata": {
        "id": "view-in-github",
        "colab_type": "text"
      },
      "source": [
        "<a href=\"https://colab.research.google.com/github/Vigmt/exercicios-olabi/blob/main/Exercicio_de_phyton_olabi.ipynb\" target=\"_parent\"><img src=\"https://colab.research.google.com/assets/colab-badge.svg\" alt=\"Open In Colab\"/></a>"
      ]
    },
    {
      "cell_type": "markdown",
      "source": [
        "#Modulo 1 - Coleta de dados"
      ],
      "metadata": {
        "id": "oPk9jQAxkx66"
      }
    },
    {
      "cell_type": "code",
      "source": [
        "#Criando modulo e inserindo informações\n",
        "import csv\n",
        "import pandas as pd\n",
        "with open('/content/coleta_dados.py', 'w') as f:\n",
        "    dados = {\n",
        "    'Nome': ['Ana', 'Carlos', 'Maria', 'João','Pedro','Mariana',\"Juliana\"],\n",
        "    'Gênero': ['Feminino', 'Masculino', 'Feminino', 'Masculino','Masculino','Feminino','Feminino'],\n",
        "    'Etnia': ['Branca', 'Pardo', 'Negra', 'Branca','Negro','Indigena','Branca'],\n",
        "    'Idade': [25, 30, 28, 35,20,44,37],\n",
        "    'Cidade': ['São Paulo', 'Rio de Janeiro', 'Belo Horizonte', 'Porto Alegre','Arraial do Cabo','Itabuna','Franca'],\n",
        "    'Estado': ['SP', 'RJ', 'MG', 'RS','RJ','BA,','SP'],\n",
        "    'País': ['Brasil', 'Brasil', 'Brasil', 'Brasil','Brasil','Brasil','Brasil'],\n",
        "    'Estado civil': ['Solteiro', 'Casado', 'Solteiro', 'Casado','Solteiro','Casado','Solteiro'],\n",
        "    'Escolaridade': ['Ensino fundamental', 'Ensino médio', 'Ensino superior', 'Ensino fundamental','Ensino fundamental','Ensino fundamental','Ensino fundamental']\n",
        "}\n",
        "    f.write(str(dados))\n",
        "df = pd.DataFrame(dados)\n",
        "\n",
        "# Use a função open para abrir o arquivo em modo de leitura ('r')\n",
        "with open('/content/coleta_dados.py', 'r') as f:\n",
        "    # Leia o conteúdo do arquivo\n",
        "    file_contents = f.read()\n",
        "\n",
        "print(df)\n",
        "print(file_contents)\n",
        "\n"
      ],
      "metadata": {
        "id": "S7zR9dtn1p3P",
        "colab": {
          "base_uri": "https://localhost:8080/"
        },
        "outputId": "84dbefb2-246e-4e48-d987-06fcb545c90d"
      },
      "execution_count": null,
      "outputs": [
        {
          "output_type": "stream",
          "name": "stdout",
          "text": [
            "      Nome     Gênero     Etnia  Idade           Cidade Estado    País  \\\n",
            "0      Ana   Feminino    Branca     25        São Paulo     SP  Brasil   \n",
            "1   Carlos  Masculino     Pardo     30   Rio de Janeiro     RJ  Brasil   \n",
            "2    Maria   Feminino     Negra     28   Belo Horizonte     MG  Brasil   \n",
            "3     João  Masculino    Branca     35     Porto Alegre     RS  Brasil   \n",
            "4    Pedro  Masculino     Negro     20  Arraial do Cabo     RJ  Brasil   \n",
            "5  Mariana   Feminino  Indigena     44          Itabuna    BA,  Brasil   \n",
            "6  Juliana   Feminino    Branca     37           Franca     SP  Brasil   \n",
            "\n",
            "  Estado civil        Escolaridade  \n",
            "0     Solteiro  Ensino fundamental  \n",
            "1       Casado        Ensino médio  \n",
            "2     Solteiro     Ensino superior  \n",
            "3       Casado  Ensino fundamental  \n",
            "4     Solteiro  Ensino fundamental  \n",
            "5       Casado  Ensino fundamental  \n",
            "6     Solteiro  Ensino fundamental  \n",
            "{'Nome': ['Ana', 'Carlos', 'Maria', 'João', 'Pedro', 'Mariana', 'Juliana'], 'Gênero': ['Feminino', 'Masculino', 'Feminino', 'Masculino', 'Masculino', 'Feminino', 'Feminino'], 'Etnia': ['Branca', 'Pardo', 'Negra', 'Branca', 'Negro', 'Indigena', 'Branca'], 'Idade': [25, 30, 28, 35, 20, 44, 37], 'Cidade': ['São Paulo', 'Rio de Janeiro', 'Belo Horizonte', 'Porto Alegre', 'Arraial do Cabo', 'Itabuna', 'Franca'], 'Estado': ['SP', 'RJ', 'MG', 'RS', 'RJ', 'BA,', 'SP'], 'País': ['Brasil', 'Brasil', 'Brasil', 'Brasil', 'Brasil', 'Brasil', 'Brasil'], 'Estado civil': ['Solteiro', 'Casado', 'Solteiro', 'Casado', 'Solteiro', 'Casado', 'Solteiro'], 'Escolaridade': ['Ensino fundamental', 'Ensino médio', 'Ensino superior', 'Ensino fundamental', 'Ensino fundamental', 'Ensino fundamental', 'Ensino fundamental']}\n"
          ]
        }
      ]
    },
    {
      "cell_type": "markdown",
      "source": [],
      "metadata": {
        "id": "WFw3-Lj0_fYj"
      }
    }
  ]
}