{
  "nbformat": 4,
  "nbformat_minor": 0,
  "metadata": {
    "colab": {
      "provenance": [],
      "authorship_tag": "ABX9TyN5pmV0pdNgn1fRUBUhQa5v",
      "include_colab_link": true
    },
    "kernelspec": {
      "name": "python3",
      "display_name": "Python 3"
    },
    "language_info": {
      "name": "python"
    }
  },
  "cells": [
    {
      "cell_type": "markdown",
      "metadata": {
        "id": "view-in-github",
        "colab_type": "text"
      },
      "source": [
        "<a href=\"https://colab.research.google.com/github/Vigmt/exercicios-olabi/blob/main/Exercicio_de_phyton_olabi.ipynb\" target=\"_parent\"><img src=\"https://colab.research.google.com/assets/colab-badge.svg\" alt=\"Open In Colab\"/></a>"
      ]
    },
    {
      "cell_type": "markdown",
      "source": [
        "#Modulo 1 - Coleta de dados"
      ],
      "metadata": {
        "id": "oPk9jQAxkx66"
      }
    },
    {
      "cell_type": "code",
      "source": [
        "#Criando modulo\n",
        "import csv\n",
        "import pandas as pd\n",
        "with open('/content/coleta_dados.py', 'w') as f:\n",
        "    f.write('codigo')\n",
        "\n"
      ],
      "metadata": {
        "id": "S7zR9dtn1p3P"
      },
      "execution_count": null,
      "outputs": []
    },
    {
      "cell_type": "markdown",
      "source": [],
      "metadata": {
        "id": "WFw3-Lj0_fYj"
      }
    }
  ]
}