{
  "nbformat": 4,
  "nbformat_minor": 0,
  "metadata": {
    "colab": {
      "provenance": [],
      "include_colab_link": true
    },
    "kernelspec": {
      "name": "python3",
      "display_name": "Python 3"
    },
    "language_info": {
      "name": "python"
    }
  },
  "cells": [
    {
      "cell_type": "markdown",
      "metadata": {
        "id": "view-in-github",
        "colab_type": "text"
      },
      "source": [
        "<a href=\"https://colab.research.google.com/github/Vigmt/exercicios-olabi/blob/main/exercicio_proposto.ipynb\" target=\"_parent\"><img src=\"https://colab.research.google.com/assets/colab-badge.svg\" alt=\"Open In Colab\"/></a>"
      ]
    },
    {
      "cell_type": "code",
      "execution_count": 2,
      "metadata": {
        "colab": {
          "base_uri": "https://localhost:8080/"
        },
        "id": "ZnR7TDZBuQob",
        "outputId": "8662078b-7f87-4bbb-f474-40b6e32072cc"
      },
      "outputs": [
        {
          "output_type": "stream",
          "name": "stdout",
          "text": [
            "['Nome', 'Genero', 'Etnia', 'Idade', 'Cidade', 'Estado', 'País', 'Estado Civil', 'Escolaridade']\n",
            "['ANA', 'FEMININO', 'PARDA', '30', 'SAO PAULO', 'SP', 'BRASIL', 'SOLTEIRO', 'ENSINO SUPERIOR']\n",
            "['JULIO', 'MASCULINO', 'NEGRO', '24', 'ILHEUS', 'BA', 'BRASIL', 'CASADO', 'ENSINO SUPERIOR']\n",
            "['AMANDA', 'FEMININO', 'INDIGENA', '35', 'RIO DE JANEIRO', 'RJ', 'BRASIL', 'SOLTEIRO', 'ENSINO MEDIO']\n",
            "['PABLO', 'MASCULINO', 'BRANCO', '45', 'BELO HORIZONTE', 'MG', 'BRASIL', 'CASADO', 'ENSINO FUNDAMENTAL']\n",
            "['CRISTIANO', 'MASCULINO', 'BRANCO', '18', 'ARRAIAL DO CABO', 'RJ', 'BRASIL', 'SOLTEIRO', 'ENSINO MEDIO']\n",
            "['ANDERSON', 'MASCULINO', 'NEGRO', '23', 'CURITIBA', 'PR', 'BRASIL', 'SOLTEIRO', 'ENSINO SUPERIOR']\n",
            "['LISANDRA', 'FEMININO', 'NEGRA', '29', 'SANTO ANDRE', 'SP', 'BRASIL', 'CASADO', 'ENSINO MEDIO']\n",
            "['LUANA', 'FEMININO', 'PARDA', '51', 'SALVADOR', 'BA', 'BRASIL', 'CASADO', 'ENSINO SUPERIOR']\n",
            "['REGINA', 'FEMININO', 'BRANCA', '33', 'BELEM', 'PA', 'BRASIL', 'CASADO', 'ENSINO SUPERIOR']\n",
            "['ROSA', 'FEMININO', 'INDIGENA', '19', 'BELEM', 'PA', 'BRASIL', 'SOLTEIRO', 'ENSINO FUNDAMENTAL']\n"
          ]
        }
      ],
      "source": [
        "#Modulo 1\n",
        "import csv\n",
        "import pandas as pd\n",
        "#Ler dados de um arquivo CSV\n",
        "with open('arquivo.csv', 'r') as arquivo:\n",
        "    leitor = csv.reader(arquivo)\n",
        "    for linha in leitor:\n",
        "        print(linha)"
      ]
    },
    {
      "cell_type": "code",
      "source": [
        "import pandas as pd\n",
        "\n",
        "# Carrega o CSV\n",
        "df = pd.read_csv('arquivo.csv')\n",
        "\n",
        "#padronizar genero\n",
        "df['Genero'] = df['Genero'].str.strip().str.lower()\n",
        "\n",
        "def calcular_porcentagem_genero(df, genero):\n",
        "    total = len(df)\n",
        "    total_genero = len(df[df['Genero'] == genero.lower()])\n",
        "    return (total_genero / total) * 100 if total > 0 else 0\n",
        "\n",
        "def categorizar_escolaridade(df):\n",
        "    return df['Escolaridade'].value_counts()\n",
        "\n",
        "def calcular_media_idade(df):\n",
        "    return df['Idade'].mean()\n",
        "\n",
        "def calcular_diversidade_racial(df):\n",
        "    return df['Etnia'].nunique()\n",
        "\n",
        "def categorizar_estados(df):\n",
        "    return df['Estado'].value_counts()\n",
        "\n",
        "def categorizar_cidades(df):\n",
        "  return df['Cidade'].value_counts()\n",
        "\n",
        "print(f'Distribuição Escolaridade: {categorizar_escolaridade(df)}')\n",
        "print(f'Média de Idade: {calcular_media_idade(df):.2f}')\n",
        "print(f'Estados: {categorizar_estados(df)}')\n",
        "print(f'Diversidade Racial: {calcular_diversidade_racial(df)}')\n",
        "print(f'Porcentagem de Homens: {calcular_porcentagem_genero(df, \"masculino\"):.2f}%')\n",
        "print(f'Porcentagem de Mulheres: {calcular_porcentagem_genero(df, \"feminino\"):.2f}%')\n",
        "print(f'Cidades: {categorizar_cidades(df)}')"
      ],
      "metadata": {
        "colab": {
          "base_uri": "https://localhost:8080/"
        },
        "id": "r5dl9HQNwsY6",
        "outputId": "8e0e053c-6a77-469f-e4b1-dab632323a88"
      },
      "execution_count": 5,
      "outputs": [
        {
          "output_type": "stream",
          "name": "stdout",
          "text": [
            "Distribuição Escolaridade: Escolaridade\n",
            "ENSINO SUPERIOR       5\n",
            "ENSINO MEDIO          3\n",
            "ENSINO FUNDAMENTAL    2\n",
            "Name: count, dtype: int64\n",
            "Média de Idade: 30.70\n",
            "Estados: Estado\n",
            "SP    2\n",
            "BA    2\n",
            "RJ    2\n",
            "PA    2\n",
            "MG    1\n",
            "PR    1\n",
            "Name: count, dtype: int64\n",
            "Diversidade Racial: 6\n",
            "Porcentagem de Homens: 40.00%\n",
            "Porcentagem de Mulheres: 60.00%\n",
            "Cidades: Cidade\n",
            "BELEM              2\n",
            "SAO PAULO          1\n",
            "ILHEUS             1\n",
            "RIO DE JANEIRO     1\n",
            "BELO HORIZONTE     1\n",
            "ARRAIAL DO CABO    1\n",
            "CURITIBA           1\n",
            "SANTO ANDRE        1\n",
            "SALVADOR           1\n",
            "Name: count, dtype: int64\n"
          ]
        }
      ]
    },
    {
      "cell_type": "code",
      "source": [
        "import csv\n",
        "from typing import List, Dict, Union\n",
        "\n",
        "class EscritaDados:\n",
        "    def __init__(self, arquivo_csv: str, formato: str = 'txt'):\n",
        "        self.arquivo_csv = arquivo_csv\n",
        "        self.formato = formato.lower()\n",
        "\n",
        "        if self.formato not in ['txt', 'csv']:\n",
        "            raise ValueError(\"Formato inválido. Use 'txt' ou 'csv'.\")\n",
        "\n",
        "    def gerar_relatorio(self, dados: List[Dict[str, Union[str, float]]]):\n",
        "        if self.formato == 'txt':\n",
        "            self._escrever_txt(dados)\n",
        "        elif self.formato == 'csv':\n",
        "            self._escrever_csv(dados)\n",
        "\n",
        "    def _escrever_txt(self, dados: List[Dict[str, Union[str, float]]]):\n",
        "        with open(f\"{self.arquivo_csv}.txt\", 'w', encoding='utf-8') as arquivo:\n",
        "            for i, dicionario in enumerate(dados, 1):\n",
        "                arquivo.write(f\"--- Relatório {i} ---\\n\")\n",
        "                for chave, valor in dicionario.items():\n",
        "                    arquivo.write(f\"{chave}: {valor}\\n\")\n",
        "                arquivo.write(\"\\n\")\n",
        "\n",
        "    def _escrever_csv(self, dados: List[Dict[str, Union[str, float]]]):\n",
        "        with open(f\"{self.arquivo_csv}.csv\", 'w', newline='', encoding='utf-8') as arquivo_csv:\n",
        "            escritor = csv.DictWriter(arquivo_csv, fieldnames=dados[0].keys())\n",
        "            escritor.writeheader()\n",
        "            escritor.writerows(dados)"
      ],
      "metadata": {
        "id": "iKdu94PrE5f_"
      },
      "execution_count": 4,
      "outputs": []
    }
  ]
}