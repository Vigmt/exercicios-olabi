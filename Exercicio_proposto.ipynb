{
  "nbformat": 4,
  "nbformat_minor": 0,
  "metadata": {
    "colab": {
      "provenance": [],
      "authorship_tag": "ABX9TyM8Jt/x4R2wBQHlJEdYM4PI",
      "include_colab_link": true
    },
    "kernelspec": {
      "name": "python3",
      "display_name": "Python 3"
    },
    "language_info": {
      "name": "python"
    }
  },
  "cells": [
    {
      "cell_type": "markdown",
      "metadata": {
        "id": "view-in-github",
        "colab_type": "text"
      },
      "source": [
        "<a href=\"https://colab.research.google.com/github/Vigmt/exercicios-olabi/blob/main/Exercicio_proposto.ipynb\" target=\"_parent\"><img src=\"https://colab.research.google.com/assets/colab-badge.svg\" alt=\"Open In Colab\"/></a>"
      ]
    },
    {
      "cell_type": "code",
      "execution_count": 1,
      "metadata": {
        "colab": {
          "base_uri": "https://localhost:8080/"
        },
        "id": "ZnR7TDZBuQob",
        "outputId": "caa4e7ed-69b5-4e8a-8ec3-11615010eeae"
      },
      "outputs": [
        {
          "output_type": "stream",
          "name": "stdout",
          "text": [
            "['Nome', 'Genero', 'Etnia', 'Idade', 'Cidade', 'Estado', 'País', 'Estado Civil', 'Escolaridade']\n",
            "['ANA', 'FEMININO', 'PARDA', '30', 'SAO PAULO', 'SP', 'BRASIL', 'SOLTEIRO', 'ENSINO SUPERIOR']\n",
            "['JULIO', 'MASCULINO', 'NEGRO', '24', 'ILHEUS', 'BA', 'BRASIL', 'CASADO', 'ENSINO SUPERIOR']\n",
            "['AMANDA', 'FEMININO', 'INDIGENA', '35', 'RIO DE JANEIRO', 'RJ', 'BRASIL', 'SOLTEIRO', 'ENSINO MEDIO']\n",
            "['PABLO', 'MASCULINO', 'BRANCO', '45', 'BELO HORIZONTE', 'MG', 'BRASIL', 'CASADO', 'ENSINO FUNDAMENTAL']\n",
            "['CRISTIANO', 'MASCULINO', 'BRANCO', '18', 'ARRAIAL DO CABO', 'RJ', 'BRASIL', 'SOLTEIRO', 'ENSINO MEDIO']\n",
            "['ANDERSON', 'MASCULINO', 'NEGRO', '23', 'CURITIBA', 'PR', 'BRASIL', 'SOLTEIRO', 'ENSINO SUPERIOR']\n",
            "['LISANDRA', 'FEMININO', 'NEGRA', '29', 'SANTO ANDRE', 'SP', 'BRASIL', 'CASADO', 'ENSINO MEDIO']\n",
            "['LUANA', 'FEMININO', 'PARDA', '51', 'SALVADOR', 'BA', 'BRASIL', 'CASADO', 'ENSINO SUPERIOR']\n",
            "['REGINA', 'FEMININO', 'BRANCA', '33', 'BELEM', 'PA', 'BRASIL', 'CASADO', 'ENSINO SUPERIOR']\n",
            "['ROSA', 'FEMININO', 'INDIGENA', '19', 'BELEM', 'PA', 'BRASIL', 'SOLTEIRO', 'ENSINO FUNDAMENTAL']\n"
          ]
        }
      ],
      "source": [
        "#Modulo 1\n",
        "import csv\n",
        "import pandas as pd\n",
        "#Ler dados de um arquivo CSV\n",
        "with open('arquivo.csv', 'r') as arquivo:\n",
        "    leitor = csv.reader(arquivo)\n",
        "    for linha in leitor:\n",
        "        print(linha)"
      ]
    },
    {
      "cell_type": "code",
      "source": [
        "#Modulo 2\n",
        "import pandas as pd\n",
        "df = pd.read_csv('arquivo.csv')\n",
        "df.head()\n",
        "def calcular_porcentagem_genero(df, genero):\n",
        "    total = len(df)\n",
        "    total_genero = len(df[df['Genero'] == genero])\n",
        "    return (total_genero / total) * 100 if total > 0 else 0\n",
        "\n",
        "def categorizar_escolaridade(df):\n",
        "    return df['Escolaridade'].value_counts()\n",
        "\n",
        "def calcular_media_idade(df):\n",
        "    return df['Idade'].mean()\n",
        "\n",
        "    def calcular_porcentagem_genero(df, genero):\n",
        "    total = len(df)\n",
        "    total_genero = len(df[df['Genero'] == genero])\n",
        "    return (total_genero / total) * 100 if total > 0 else 0\n",
        "\n",
        "def calcular_diversidade_racial(df):\n",
        "    return df['Etnia'].nunique()\n",
        "\n",
        "# Chama as outras funções e imprime os resultados\n",
        "print(f'Distribuição Escolaridade: {categorizar_escolaridade(df)}')\n",
        "print(f'Média de Idade: {calcular_media_idade(df):.2f}')\n",
        "print(f'Diversidade Racial: {calcular_diversidade_racial(df)}')\n",
        "print(f'Porcentagem de Homens: {calcular_porcentagem_genero(df, \"Masculino\")}%')\n",
        "print(f'Porcentagem de Mulheres: {calcular_porcentagem_genero(df, \"Feminino\")}%')"
      ],
      "metadata": {
        "colab": {
          "base_uri": "https://localhost:8080/",
          "height": 106
        },
        "id": "wwnGwqFwu9oa",
        "outputId": "3ba22afb-ec58-45ac-88cf-21c0b2b3a75e"
      },
      "execution_count": 8,
      "outputs": [
        {
          "output_type": "error",
          "ename": "IndentationError",
          "evalue": "expected an indented block after function definition on line 16 (<ipython-input-8-9111c3777fb3>, line 17)",
          "traceback": [
            "\u001b[0;36m  File \u001b[0;32m\"<ipython-input-8-9111c3777fb3>\"\u001b[0;36m, line \u001b[0;32m17\u001b[0m\n\u001b[0;31m    total = len(df)\u001b[0m\n\u001b[0m    ^\u001b[0m\n\u001b[0;31mIndentationError\u001b[0m\u001b[0;31m:\u001b[0m expected an indented block after function definition on line 16\n"
          ]
        }
      ]
    },
    {
      "cell_type": "code",
      "source": [
        "#Modulo 2\n",
        "import pandas as pd\n",
        "df = pd.read_csv('arquivo.csv')\n",
        "df.head()\n",
        "def calcular_porcentagem_genero(df, genero):\n",
        "    total = len(df)\n",
        "    total_genero = len(df[df['Genero'] == genero])\n",
        "    return (total_genero / total) * 100 if total > 0 else 0\n",
        "\n",
        "def categorizar_escolaridade(df):\n",
        "    return df['Escolaridade'].value_counts()\n",
        "\n",
        "def calcular_media_idade(df):\n",
        "    return df['Idade'].mean()\n",
        "\n",
        "def calcular_diversidade_racial(df):\n",
        "    return df['Etnia'].nunique()\n",
        "\n",
        "def categorizar_estados(df):\n",
        "    return df['Estado'].value_counts()\n",
        "\n",
        "print(f'Distribuição Escolaridade: {categorizar_escolaridade(df)}')\n",
        "print(f'Média de Idade: {calcular_media_idade(df):.2f}')\n",
        "print(f'Estados: {categorizar_estados(df)}')\n",
        "print(f'Média de Idade: {calcular_media_idade(df):.2f}')\n",
        "print(f'Diversidade Racial: {calcular_diversidade_racial(df)}')\n",
        "print(f'Porcentagem de Homens: {calcular_porcentagem_genero(df, \"Masculino\")}%')\n",
        "print(f'Porcentagem de Mulheres: {calcular_porcentagem_genero(df, \"Feminino\")}%')"
      ],
      "metadata": {
        "colab": {
          "base_uri": "https://localhost:8080/"
        },
        "id": "r5dl9HQNwsY6",
        "outputId": "ef52592b-296e-4e30-e5bf-f641550ec427"
      },
      "execution_count": 11,
      "outputs": [
        {
          "output_type": "stream",
          "name": "stdout",
          "text": [
            "Distribuição Escolaridade: Escolaridade\n",
            "ENSINO SUPERIOR       5\n",
            "ENSINO MEDIO          3\n",
            "ENSINO FUNDAMENTAL    2\n",
            "Name: count, dtype: int64\n",
            "Média de Idade: 30.70\n",
            "Estados: Estado\n",
            "SP    2\n",
            "BA    2\n",
            "RJ    2\n",
            "PA    2\n",
            "MG    1\n",
            "PR    1\n",
            "Name: count, dtype: int64\n",
            "Média de Idade: 30.70\n",
            "Diversidade Racial: 6\n",
            "Porcentagem de Homens: 0.0%\n",
            "Porcentagem de Mulheres: 0.0%\n"
          ]
        }
      ]
    }
  ]
}